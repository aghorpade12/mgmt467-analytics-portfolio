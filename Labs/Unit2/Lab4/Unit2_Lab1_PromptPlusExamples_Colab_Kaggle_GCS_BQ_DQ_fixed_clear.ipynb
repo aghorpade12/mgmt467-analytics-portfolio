{
 "cells": [
  {
   "cell_type": "markdown",
   "id": "aQn8jzgTXk96",
   "metadata": {
    "id": "aQn8jzgTXk96"
   },
   "source": [
    "# MGMT 467 — Prompt-Driven Lab (with Commented Examples)\n",
    "## Kaggle ➜ Google Cloud Storage ➜ BigQuery ➜ Data Quality (DQ)\n",
    "\n",
    "**How to use this notebook**\n",
    "- Each section gives you a **Build Prompt** to paste into Gemini/Vertex AI (or Gemini in Colab).\n",
    "- Below each prompt, you’ll see a **commented example** of what a good LLM answer might look like.\n",
    "- **Do not** just uncomment and run. Use the prompt to generate your own code, then compare to the example.\n",
    "- After every step, run the **Verification Prompt**, and write the **Reflection** in Markdown.\n",
    "\n",
    "> Goal today: Download the Netflix dataset (Kaggle) → Stage on GCS → Load into BigQuery → Run DQ profiling (missingness, duplicates, outliers, anomaly flags).\n"
   ]
  },
  {
   "cell_type": "markdown",
   "id": "3QTWy7T5Xk-I",
   "metadata": {
    "id": "3QTWy7T5Xk-I"
   },
   "source": [
    "### Academic integrity & LLM usage\n",
    "- Use the prompts here to generate your own code cells.\n",
    "- Read concept notes and write the reflection answers in your own words.\n",
    "- Keep credentials out of code. Upload `kaggle.json` when asked.\n"
   ]
  },
  {
   "cell_type": "markdown",
   "id": "EwvmpHUxXk-K",
   "metadata": {
    "id": "EwvmpHUxXk-K"
   },
   "source": [
    "## Learning objectives\n",
    "1) Explain **why** we stage data in GCS and load it to BigQuery.  \n",
    "2) Build an **idempotent**, auditable pipeline.  \n",
    "3) Diagnose **missingness**, **duplicates**, and **outliers** and justify cleaning choices.  \n",
    "4) Connect DQ decisions to **business/ML impact**.\n"
   ]
  },
  {
   "cell_type": "markdown",
   "id": "xIQ9aD48Xk-M",
   "metadata": {
    "id": "xIQ9aD48Xk-M"
   },
   "source": [
    "## 0) Environment setup — What & Why\n",
    "Authenticate Colab to Google Cloud so we can use `gcloud`, GCS, and BigQuery. Set **PROJECT_ID** and **REGION** once for consistency (cost/latency)."
   ]
  },
  {
   "cell_type": "markdown",
   "id": "Nqm_kxKRXk-N",
   "metadata": {
    "id": "Nqm_kxKRXk-N"
   },
   "source": [
    "### Build Prompt (paste to LLM)\n",
    "You are my cloud TA. Generate a single **Colab code cell** that:\n",
    "1) Authenticates to Google Cloud in Colab,  \n",
    "2) Prompts for `PROJECT_ID` via `input()` and sets `REGION=\"us-central1\"` (editable),  \n",
    "3) Exports `GOOGLE_CLOUD_PROJECT`,  \n",
    "4) Runs `gcloud config set project $GOOGLE_CLOUD_PROJECT`,  \n",
    "5) Prints both values. Add 2–3 comments explaining what/why.\n",
    "End with a comment: `# Done: Auth + Project/Region set`.\n"
   ]
  },
  {
   "cell_type": "code",
   "execution_count": null,
   "id": "NgD7uK_PXk-O",
   "metadata": {
    "collapsed": true,
    "id": "NgD7uK_PXk-O"
   },
   "outputs": [],
   "source": [
    "# # # EXAMPLE (from LLM) — Auth + Project/Region (commented; write your own cell using the prompt)\n",
    "# from google.colab import auth\n",
    "# auth.authenticate_user()\n",
    "\n",
    "# import os\n",
    "# PROJECT_ID = input(\"Enter your GCP Project ID: \").strip()\n",
    "# REGION = \"us-central1\"  # keep consistent; change if instructed\n",
    "# os.environ[\"GOOGLE_CLOUD_PROJECT\"] = PROJECT_ID\n",
    "# print(\"Project:\", PROJECT_ID, \"| Region:\", REGION)\n",
    "\n",
    "# # Set active project for gcloud/BigQuery CLI\n",
    "# !gcloud config set project $GOOGLE_CLOUD_PROJECT\n",
    "# !gcloud config get-value project\n",
    "# # Done: Auth + Project/Region set"
   ]
  },
  {
   "cell_type": "code",
   "execution_count": null,
   "id": "711c97fb",
   "metadata": {
    "colab": {
     "base_uri": "https://localhost:8080/"
    },
    "id": "711c97fb",
    "outputId": "67d04ee5-d904-47e6-9f18-191a34caba1c"
   },
   "outputs": [],
   "source": [
    "# Prompt output\n",
    "from google.colab import auth\n",
    "auth.authenticate_user() # Authenticates the Colab environment to Google Cloud\n",
    "\n",
    "import os\n",
    "PROJECT_ID = input(\"Enter your GCP Project ID: \").strip() # Prompt for and store the GCP Project ID\n",
    "REGION = \"us-central1\"  # Set the default region; change if necessary\n",
    "\n",
    "os.environ[\"GOOGLE_CLOUD_PROJECT\"] = PROJECT_ID # Export the Project ID as an environment variable\n",
    "\n",
    "# Set the active project for gcloud commands\n",
    "!gcloud config set project $GOOGLE_CLOUD_PROJECT\n",
    "print(\"Project:\", PROJECT_ID, \"| Region:\", REGION)\n",
    "\n",
    "# Done: Auth + Project/Region set"
   ]
  },
  {
   "cell_type": "markdown",
   "id": "p-L_hF0PXk-R",
   "metadata": {
    "id": "p-L_hF0PXk-R"
   },
   "source": [
    "### Verification Prompt\n",
    "Generate a short cell that prints the active project using `gcloud config get-value project` and echoes the `REGION` you set.\n"
   ]
  },
  {
   "cell_type": "code",
   "execution_count": null,
   "id": "1d5c45b0",
   "metadata": {
    "colab": {
     "base_uri": "https://localhost:8080/"
    },
    "id": "1d5c45b0",
    "outputId": "33c74c2b-7397-487a-d036-c670039a9183"
   },
   "outputs": [],
   "source": [
    "# Verification: Print active project and region\n",
    "!gcloud config get-value project\n",
    "print(f\"Region: {REGION}\")"
   ]
  },
  {
   "cell_type": "markdown",
   "id": "QUyoomHcXk-S",
   "metadata": {
    "id": "QUyoomHcXk-S"
   },
   "source": [
    "**Reflection:** Why do we set `PROJECT_ID` and `REGION` at the top? What can go wrong if we don’t?\n",
    "\n",
    "We set 'PROJECT_ID' and 'REGION' at the beginning to ensure consistency, cost management, and to avoid errors. If we don't do this you could encounter errors in your code and incur unexpected costs in different regions."
   ]
  },
  {
   "cell_type": "markdown",
   "id": "HhNMBxmlXk-U",
   "metadata": {
    "id": "HhNMBxmlXk-U"
   },
   "source": [
    "## 1) Kaggle API — What & Why\n",
    "Use Kaggle CLI for reproducible downloads. Store `kaggle.json` at `~/.kaggle/kaggle.json` with `0600` permissions to protect secrets."
   ]
  },
  {
   "cell_type": "markdown",
   "id": "o7nWnhXqXk-U",
   "metadata": {
    "id": "o7nWnhXqXk-U"
   },
   "source": [
    "### Build Prompt\n",
    "Generate a **single Colab code cell** that:\n",
    "- Prompts me to upload `kaggle.json`,\n",
    "- Saves to `~/.kaggle/kaggle.json` with `0600` permissions,\n",
    "- Prints `kaggle --version`.\n",
    "Add comments about security and reproducibility.\n"
   ]
  },
  {
   "cell_type": "code",
   "execution_count": null,
   "id": "ZqPgnLNDXk-V",
   "metadata": {
    "id": "ZqPgnLNDXk-V"
   },
   "outputs": [],
   "source": [
    "# # EXAMPLE (from LLM) — Kaggle setup (commented)\n",
    "# # from google.colab import files\n",
    "# # print(\"Upload your kaggle.json (Kaggle > Account > Create New API Token)\")\n",
    "# # uploaded = files.upload()\n",
    "# #\n",
    "# # import os\n",
    "# # os.makedirs('/root/.kaggle', exist_ok=True)\n",
    "# # with open('/root/.kaggle/kaggle.json', 'wb') as f:\n",
    "# #     f.write(uploaded[list(uploaded.keys())[0]])\n",
    "# # os.chmod('/root/.kaggle/kaggle.json', 0o600)  # owner-only\n",
    "# #\n",
    "# # !kaggle --version"
   ]
  },
  {
   "cell_type": "code",
   "execution_count": null,
   "id": "a5951bad",
   "metadata": {
    "colab": {
     "base_uri": "https://localhost:8080/",
     "height": 108
    },
    "id": "a5951bad",
    "outputId": "85e63811-256e-42b2-c97d-1bc0141a676d"
   },
   "outputs": [],
   "source": [
    "from google.colab import files\n",
    "print(\"Upload your kaggle.json (Kaggle > Account > Create New API Token)\")\n",
    "uploaded = files.upload()\n",
    "\n",
    "import os\n",
    "os.makedirs('/root/.kaggle', exist_ok=True)\n",
    "with open('/root/.kaggle/kaggle.json', 'wb') as f:\n",
    "    f.write(uploaded[list(uploaded.keys())[0]])\n",
    "os.chmod('/root/.kaggle/kaggle.json', 0o600)  # owner-only permissions for security\n",
    "\n",
    "!kaggle --version"
   ]
  },
  {
   "cell_type": "markdown",
   "id": "MgGfjRujXk-W",
   "metadata": {
    "id": "MgGfjRujXk-W"
   },
   "source": [
    "### Verification Prompt\n",
    "Generate a one-liner that runs `kaggle --help | head -n 20` to show the CLI is ready.\n"
   ]
  },
  {
   "cell_type": "code",
   "execution_count": null,
   "id": "3a895be0",
   "metadata": {
    "colab": {
     "base_uri": "https://localhost:8080/"
    },
    "id": "3a895be0",
    "outputId": "16cc524e-e17c-4d05-958f-8c6a48ae55d3"
   },
   "outputs": [],
   "source": [
    "# Verification: Show Kaggle CLI help output\n",
    "!kaggle --help | head -n 20"
   ]
  },
  {
   "cell_type": "markdown",
   "id": "lQMaRVHOXk-X",
   "metadata": {
    "id": "lQMaRVHOXk-X"
   },
   "source": [
    "\\**Reflection:** Why require strict `0600` permissions on API tokens? What risks are we avoiding?\n",
    "\n",
    "We require strict '0600' permissions because we want only the owner to have read and write access to the API token. We avoid risks such as unauthorized access, token compromise, and accidental modification/deletion of the token."
   ]
  },
  {
   "cell_type": "markdown",
   "id": "HtA_UJbvXk-X",
   "metadata": {
    "id": "HtA_UJbvXk-X"
   },
   "source": [
    "## 2) Download & unzip dataset — What & Why\n",
    "Keep raw files under `/content/data/raw` for predictable paths and auditing.\n",
    "**Dataset:** `sayeeduddin/netflix-2025user-behavior-dataset-210k-records`"
   ]
  },
  {
   "cell_type": "markdown",
   "id": "W_Ytp1O8Xk-X",
   "metadata": {
    "id": "W_Ytp1O8Xk-X"
   },
   "source": [
    "### Build Prompt\n",
    "Generate a **Colab code cell** that:\n",
    "- Creates `/content/data/raw`,\n",
    "- Downloads the dataset to `/content/data` with Kaggle CLI,\n",
    "- Unzips into `/content/data/raw` (overwrite OK),\n",
    "- Lists all CSVs with sizes in a neat table.\n",
    "Include comments describing each step.\n"
   ]
  },
  {
   "cell_type": "code",
   "execution_count": null,
   "id": "yNA5ZjFPXk-Y",
   "metadata": {
    "id": "yNA5ZjFPXk-Y"
   },
   "outputs": [],
   "source": [
    "# # EXAMPLE (from LLM) — Download & unzip (commented)\n",
    "# # !mkdir -p /content/data/raw\n",
    "# # !kaggle datasets download -d sayeeduddin/netflix-2025user-behavior-dataset-210k-records -p /content/data\n",
    "# # !unzip -o /content/data/*.zip -d /content/data/raw\n",
    "# # # List CSV inventory\n",
    "# # !ls -lh /content/data/raw/*.csv"
   ]
  },
  {
   "cell_type": "code",
   "execution_count": null,
   "id": "48f90f1a",
   "metadata": {
    "colab": {
     "base_uri": "https://localhost:8080/"
    },
    "id": "48f90f1a",
    "outputId": "1c779cb7-b324-4933-8629-5fd6f9b930a8"
   },
   "outputs": [],
   "source": [
    "# Create directory for raw data\n",
    "!mkdir -p /content/data/raw\n",
    "\n",
    "# Download the dataset using Kaggle CLI\n",
    "!kaggle datasets download -d sayeeduddin/netflix-2025user-behavior-dataset-210k-records -p /content/data\n",
    "\n",
    "# Unzip the downloaded file into the raw data directory (overwrite if necessary)\n",
    "!unzip -o /content/data/*.zip -d /content/data/raw\n",
    "\n",
    "# List all CSV files in the raw data directory with their sizes\n",
    "!ls -lh /content/data/raw/*.csv"
   ]
  },
  {
   "cell_type": "markdown",
   "id": "oVvCATZyXk-Y",
   "metadata": {
    "id": "oVvCATZyXk-Y"
   },
   "source": [
    "### Verification Prompt\n",
    "Generate a snippet that asserts there are exactly **six** CSV files and prints their names.\n"
   ]
  },
  {
   "cell_type": "code",
   "execution_count": null,
   "id": "4d3fccfb",
   "metadata": {
    "colab": {
     "base_uri": "https://localhost:8080/"
    },
    "id": "4d3fccfb",
    "outputId": "c1d5ccf6-ca41-4236-9e67-d54c8fc1b038"
   },
   "outputs": [],
   "source": [
    "# Verification: Assert the number of CSV files and print their names\n",
    "import glob\n",
    "csv_files = glob.glob('/content/data/raw/*.csv')\n",
    "assert len(csv_files) == 6, f\"Expected 6 CSV files, but found {len(csv_files)}\"\n",
    "print(\"Found 6 CSV files:\")\n",
    "for f in csv_files:\n",
    "    print(f)"
   ]
  },
  {
   "cell_type": "markdown",
   "id": "BzNb3nDTXk-Z",
   "metadata": {
    "id": "BzNb3nDTXk-Z"
   },
   "source": [
    "**Reflection:** Why is keeping a clean file inventory (names, sizes) useful downstream?\n",
    "\n",
    "It's important to keep clean file inventory because it allows for auditing and reproducibility, verification, troubleshooting, and easy data discovery."
   ]
  },
  {
   "cell_type": "markdown",
   "id": "VpctnSQ4Xk-Z",
   "metadata": {
    "id": "VpctnSQ4Xk-Z"
   },
   "source": [
    "## 3) Create GCS bucket & upload — What & Why\n",
    "Stage in GCS → consistent, versionable source for BigQuery loads. Bucket names must be **globally unique**."
   ]
  },
  {
   "cell_type": "markdown",
   "id": "UNFqIgubXk-Z",
   "metadata": {
    "id": "UNFqIgubXk-Z"
   },
   "source": [
    "### Build Prompt\n",
    "Generate a **Colab code cell** that:\n",
    "- Creates a unique bucket in `${REGION}` (random suffix),\n",
    "- Saves name to `BUCKET_NAME` env var,\n",
    "- Uploads all CSVs to `gs://$BUCKET_NAME/netflix/`,\n",
    "- Prints the bucket name and explains staging benefits.\n"
   ]
  },
  {
   "cell_type": "code",
   "execution_count": null,
   "id": "OYzC-oZJXk-a",
   "metadata": {
    "id": "OYzC-oZJXk-a"
   },
   "outputs": [],
   "source": [
    "# # EXAMPLE (from LLM) — GCS staging (commented)\n",
    "# # import uuid, os\n",
    "# # bucket_name = f\"mgmt467-netflix-{uuid.uuid4().hex[:8]}\"\n",
    "# # os.environ[\"BUCKET_NAME\"] = bucket_name\n",
    "# # !gcloud storage buckets create gs://$BUCKET_NAME --location=$REGION\n",
    "# # !gcloud storage cp /content/data/raw/* gs://$BUCKET_NAME/netflix/\n",
    "# # print(\"Bucket:\", bucket_name)\n",
    "# # # Verify contents\n",
    "# # !gcloud storage ls gs://$BUCKET_NAME/netflix/"
   ]
  },
  {
   "cell_type": "code",
   "execution_count": null,
   "id": "036ec981",
   "metadata": {
    "colab": {
     "base_uri": "https://localhost:8080/"
    },
    "id": "036ec981",
    "outputId": "b80b941a-0914-4145-c6e2-44040c813b41"
   },
   "outputs": [],
   "source": [
    "import uuid\n",
    "import os\n",
    "\n",
    "# Create a unique bucket name with a random suffix\n",
    "bucket_name = f\"mgmt467-netflix-{uuid.uuid4().hex[:8]}\"\n",
    "os.environ[\"BUCKET_NAME\"] = bucket_name\n",
    "\n",
    "# Create the GCS bucket\n",
    "# Note: If you encounter an error related to the region,\n",
    "# you might need to check available locations with '!gcloud storage locations list'\n",
    "# and potentially update the REGION variable at the top of the notebook.\n",
    "!gcloud storage buckets create gs://$BUCKET_NAME --location=US\n",
    "\n",
    "# Upload all CSV files to the bucket under the 'netflix/' prefix\n",
    "!gcloud storage cp /content/data/raw/* gs://$BUCKET_NAME/netflix/\n",
    "\n",
    "# Print the bucket name and explain the benefits of staging\n",
    "print(f\"Created bucket: {bucket_name}\")\n",
    "print(\"\\nBenefits of staging data in GCS:\")\n",
    "print(\"- Provides a consistent and versionable source for data.\")\n",
    "print(\"- Decouples data storage from processing, allowing for flexible use with various GCP services like BigQuery.\")\n",
    "print(\"- Enables central management and access control of data.\")"
   ]
  },
  {
   "cell_type": "markdown",
   "id": "A4drovjiXk-b",
   "metadata": {
    "id": "A4drovjiXk-b"
   },
   "source": [
    "### Verification Prompt\n",
    "Generate a snippet that lists the `netflix/` prefix and shows object sizes.\n"
   ]
  },
  {
   "cell_type": "code",
   "execution_count": null,
   "id": "691909b7",
   "metadata": {
    "colab": {
     "base_uri": "https://localhost:8080/"
    },
    "id": "691909b7",
    "outputId": "85063195-d303-48d4-9bb8-880af9c6b1dc"
   },
   "outputs": [],
   "source": [
    "# Verification: List contents of the netflix/ prefix in the bucket\n",
    "import os\n",
    "bucket_name = os.environ[\"BUCKET_NAME\"]\n",
    "!gcloud storage ls gs://$BUCKET_NAME/netflix/ --recursive --readable-sizes"
   ]
  },
  {
   "cell_type": "markdown",
   "id": "IvMKg8Q8Xk-c",
   "metadata": {
    "id": "IvMKg8Q8Xk-c"
   },
   "source": [
    "**Reflection:** Name two benefits of staging in GCS vs loading directly from local Colab.\n",
    "\n",
    "1. Staging in GCS allows for easy accesibility by various google cloud services, which is essential for large datasets and complex workflows\n",
    "\n",
    "2. Data in GCS persists independently of your Colab session. Even if you Colab runtime restarts, your data in GCS remains available, allowing you to easily reproduce it if needed as well."
   ]
  },
  {
   "cell_type": "markdown",
   "id": "DgtHvMdlXk-c",
   "metadata": {
    "id": "DgtHvMdlXk-c"
   },
   "source": [
    "## 4) BigQuery dataset & loads — What & Why\n",
    "Create dataset `netflix` and load six CSVs with **autodetect** for speed (we’ll enforce schemas later)."
   ]
  },
  {
   "cell_type": "markdown",
   "id": "UnyPWZFIXk-d",
   "metadata": {
    "id": "UnyPWZFIXk-d"
   },
   "source": [
    "### Build Prompt (two cells)\n",
    "**Cell A:** Create (idempotently) dataset `netflix` in US multi-region; if it exists, print a friendly message.  \n",
    "**Cell B:** Load tables from `gs://$BUCKET_NAME/netflix/`:\n",
    "`users, movies, watch_history, recommendation_logs, search_logs, reviews`\n",
    "with `--skip_leading_rows=1 --autodetect --source_format=CSV`.\n",
    "Finish with row-count queries for each table.\n"
   ]
  },
  {
   "cell_type": "code",
   "execution_count": null,
   "id": "qeuUHN3nXk-e",
   "metadata": {
    "id": "qeuUHN3nXk-e"
   },
   "outputs": [],
   "source": [
    "# # EXAMPLE (from LLM) — BigQuery dataset (commented)\n",
    "# # DATASET=\"netflix\"\n",
    "# # # Attempt to create; ignore if exists\n",
    "# # !bq --location=US mk -d --description \"MGMT467 Netflix dataset\" $DATASET || echo \"Dataset may already exist.\""
   ]
  },
  {
   "cell_type": "code",
   "execution_count": null,
   "id": "2AfkQqz4Xk-e",
   "metadata": {
    "id": "2AfkQqz4Xk-e"
   },
   "outputs": [],
   "source": [
    "# # EXAMPLE (from LLM) — Load tables (commented)\n",
    "# # tables = {\n",
    "# #   \"users\": \"users.csv\",\n",
    "# #   \"movies\": \"movies.csv\",\n",
    "# #   \"watch_history\": \"watch_history.csv\",\n",
    "# #   \"recommendation_logs\": \"recommendation_logs.csv\",\n",
    "# #   \"search_logs\": \"search_logs.csv\",\n",
    "# #   \"reviews\": \"reviews.csv\",\n",
    "# # }\n",
    "# # import os\n",
    "# # for tbl, fname in tables.items():\n",
    "# #   src = f\"gs://{os.environ['BUCKET_NAME']}/netflix/{fname}\"\n",
    "# #   print(\"Loading\", tbl, \"from\", src)\n",
    "# #   !bq load --skip_leading_rows=1 --autodetect --source_format=CSV $DATASET.$tbl $src\n",
    "# #\n",
    "# # # Row counts\n",
    "# # for tbl in tables.keys():\n",
    "# #   !bq query --nouse_legacy_sql \"SELECT '{tbl}' AS table_name, COUNT(*) AS n FROM `${GOOGLE_CLOUD_PROJECT}.netflix.{tbl}`\".format(tbl=tbl)"
   ]
  },
  {
   "cell_type": "code",
   "execution_count": null,
   "id": "aeffb42e",
   "metadata": {
    "colab": {
     "base_uri": "https://localhost:8080/"
    },
    "id": "aeffb42e",
    "outputId": "2c952bdd-42bd-4ead-c8d6-a939206853a9"
   },
   "outputs": [],
   "source": [
    "# Cell A: Create BigQuery dataset\n",
    "DATASET = \"netflix\"\n",
    "# Attempt to create; ignore if exists\n",
    "!bq --location=US mk -d --description \"MGMT467 Netflix dataset\" $DATASET || echo \"Dataset may already exist.\""
   ]
  },
  {
   "cell_type": "code",
   "execution_count": null,
   "id": "e80a20de",
   "metadata": {
    "colab": {
     "base_uri": "https://localhost:8080/"
    },
    "id": "e80a20de",
    "outputId": "29127401-abe6-4a56-c231-76d787392151"
   },
   "outputs": [],
   "source": [
    "# Cell B: Load tables from GCS\n",
    "tables = {\n",
    "  \"users\": \"users.csv\",\n",
    "  \"movies\": \"movies.csv\",\n",
    "  \"watch_history\": \"watch_history.csv\",\n",
    "  \"recommendation_logs\": \"recommendation_logs.csv\",\n",
    "  \"search_logs\": \"search_logs.csv\",\n",
    "  \"reviews\": \"reviews.csv\",\n",
    "}\n",
    "import os\n",
    "for tbl, fname in tables.items():\n",
    "  src = f\"gs://{os.environ['BUCKET_NAME']}/netflix/{fname}\"\n",
    "  print(\"Loading\", tbl, \"from\", src)\n",
    "  !bq load --skip_leading_rows=1 --autodetect --source_format=CSV {DATASET}.{tbl} {src}\n",
    "\n",
    "project = os.environ['GOOGLE_CLOUD_PROJECT']\n",
    "# Row counts\n",
    "for tbl in tables.keys():\n",
    "  q = f\"SELECT '{tbl}' AS table_name, COUNT(*) AS n FROM `{project}.{DATASET}.{tbl}`\"\n",
    "  print(\"Counting rows for\", tbl)\n",
    "  # Pass the whole query as a single argument to avoid backtick issues\n",
    "  !bq query --nouse_legacy_sql --format=pretty \"{q}\""
   ]
  },
  {
   "cell_type": "markdown",
   "id": "MD1J6OpgXk-f",
   "metadata": {
    "id": "MD1J6OpgXk-f"
   },
   "source": [
    "### Verification Prompt\n",
    "Generate a single query that returns `table_name, row_count` for all six tables in `${GOOGLE_CLOUD_PROJECT}.netflix`.\n"
   ]
  },
  {
   "cell_type": "markdown",
   "id": "rR-wOB1zXk-f",
   "metadata": {
    "id": "rR-wOB1zXk-f"
   },
   "source": [
    "**Reflection:** When is `autodetect` acceptable? When should you enforce explicit schemas and why?"
   ]
  },
  {
   "cell_type": "code",
   "execution_count": null,
   "id": "GUAEXyRCsdD0",
   "metadata": {
    "colab": {
     "base_uri": "https://localhost:8080/",
     "height": 302,
     "referenced_widgets": [
      "f014868445024449bf0906424cf0e023",
      "49ef3debcf994a9088fb9bf545386510",
      "bfd502eb9e8a4427b74f5a1297b34068",
      "4340f0c38a2e407e948106d168a2de89",
      "a440fd6af40b4dbfb754fb8090472ce5",
      "e75eb71255b347d6b0c02107e98bcd50",
      "c09e37d071ca4676a00d76098b7f5c64",
      "96ee5e2c15714b84b974901cad144398",
      "f8f8225dbf64436daf6b8244ed7844e0",
      "a5211cc169284ababea945b0d384cd72",
      "d2a2384e79714882a2f82fa34f2adbf1",
      "c133bc2e5c4a4489a3f40c6da22fbb10",
      "dac9d1af838649bcaf86f52322178319",
      "1e2c4420a9724dd39fe7916054cf8628",
      "ac630532b1a14c6e8deb4ec897da086b",
      "a2e15d3034e9498ba078900627128243",
      "79183dd4ac3746308712ba55747d932b",
      "9ec3c6b6e37c48f5970e63bacdbc5262",
      "54f7583fbc964c11b4cb43ffce505455",
      "d1c826a5bb9540e7ab806bbc8636d76a",
      "41facccc83a64d688e7ff585e4ad21bc",
      "dbc36356d6374c53b614b78304abd6cb"
     ]
    },
    "id": "GUAEXyRCsdD0",
    "outputId": "e25c1ca6-28ae-469d-dde4-39e85d1b62b0"
   },
   "outputs": [],
   "source": [
    "%%bigquery\n",
    "\n",
    "SELECT 'users' AS table_name, COUNT(*) AS row_count FROM `sunlit-plasma-471119-s7.netflix.users`\n",
    "UNION ALL\n",
    "SELECT 'movies' AS table_name, COUNT(*) AS row_count FROM `sunlit-plasma-471119-s7.netflix.movies`\n",
    "UNION ALL\n",
    "SELECT 'watch_history' AS table_name, COUNT(*) AS row_count FROM `sunlit-plasma-471119-s7.netflix.watch_history`\n",
    "UNION ALL\n",
    "SELECT 'recommendation_logs' AS table_name, COUNT(*) AS row_count FROM `sunlit-plasma-471119-s7.netflix.recommendation_logs`\n",
    "UNION ALL\n",
    "SELECT 'search_logs' AS table_name, COUNT(*) AS row_count FROM `sunlit-plasma-471119-s7.netflix.search_logs`\n",
    "UNION ALL\n",
    "SELECT 'reviews' AS table_name, COUNT(*) AS row_count FROM `sunlit-plasma-471119-s7.netflix.reviews`"
   ]
  },
  {
   "cell_type": "markdown",
   "id": "C_VgvCaJXk-g",
   "metadata": {
    "id": "C_VgvCaJXk-g"
   },
   "source": [
    "## 5) Data Quality (DQ) — Concepts we care about\n",
    "- **Missingness** (MCAR/MAR/MNAR). Impute vs drop. Add `is_missing_*` indicators.\n",
    "- **Duplicates** (exact vs near). Double-counted engagement corrupts labels & KPIs.\n",
    "- **Outliers** (IQR). Winsorize/cap vs robust models. Always **flag** and explain.\n",
    "- **Reproducibility**. Prefer `CREATE OR REPLACE` and deterministic keys.\n"
   ]
  },
  {
   "cell_type": "markdown",
   "id": "4t3WUdNtXk-g",
   "metadata": {
    "id": "4t3WUdNtXk-g"
   },
   "source": [
    "### 5.1 Missingness (users) — What & Why\n",
    "Measure % missing and check if missingness depends on another variable (MAR) → potential bias & instability."
   ]
  },
  {
   "cell_type": "markdown",
   "id": "XD5zBAJEXk-g",
   "metadata": {
    "id": "XD5zBAJEXk-g"
   },
   "source": [
    "### Build Prompt\n",
    "Generate **two BigQuery SQL cells**:\n",
    "1) Total rows and % missing in `region`, `plan_tier`, `age_band` from `users`.\n",
    "2) `% plan_tier missing by region` ordered descending. Add comments on MAR.\n"
   ]
  },
  {
   "cell_type": "code",
   "execution_count": null,
   "id": "MLtE3-PjXk-g",
   "metadata": {
    "colab": {
     "base_uri": "https://localhost:8080/",
     "height": 145,
     "referenced_widgets": [
      "945c979ef6cb4fce9eb013423725afe1",
      "d0ad12e889174626b0d6b741829f7d54",
      "f5c14d12953b4ccda92915087be92017",
      "50c1afd07bdb4540b9d02a698e6f9717",
      "32e464ab15cb40ea97bd252b1ddc6972",
      "98277c3c2f444c2abb68ee779f233cf7",
      "a3535d89aac9400c9b3b70830b593f3e",
      "ca1901eb1272439f9b9c3651061be127",
      "89d226f4c4e54c15b1d0a7644096385b",
      "cd5bff1a4b8e4d41b3b8d1864565f5f2",
      "9086c97c8b6f47f69e6167ceca6a7520",
      "093ee26eb7444b3b9c8a2b11e93f9f42",
      "cdb935daa24c41f79a1d87ca5bb0dc22",
      "88b4f381377b4aeb903825807b95fb2d",
      "687b56b1d95a42af9cd7b8583df0cc73",
      "db85482a7cd5459186daacceb2cf6f26",
      "4ba66995447340cbb5276c8462e06efc",
      "ce12fab7bed243f796c60bae68d7fa2a",
      "eb76a5b0451b4963ab9e71f792aea189",
      "67e7c40bd0584caf98bd16451d104452",
      "b00507c7f9744417b84f038935928c88",
      "82bd892499374d37ac480a8740fa1632"
     ]
    },
    "id": "MLtE3-PjXk-g",
    "outputId": "03228734-3f03-4db3-80c2-1250487985ea"
   },
   "outputs": [],
   "source": [
    "%%bigquery\n",
    "-- Users: Total rows and % missing per column (region, plan_tier, age_band)\n",
    "WITH base AS (\n",
    "  SELECT COUNT(*) n,\n",
    "         COUNTIF(state_province IS NULL) miss_region,\n",
    "         COUNTIF(subscription_plan IS NULL) miss_plan,\n",
    "         COUNTIF(age IS NULL) miss_age\n",
    "  FROM `sunlit-plasma-471119-s7.netflix.users`\n",
    ")\n",
    "SELECT n,\n",
    "       ROUND(SAFE_DIVIDE(100*miss_region, n),2) AS pct_missing_region,\n",
    "       ROUND(SAFE_DIVIDE(100*miss_plan, n),2)   AS pct_missing_plan_tier,\n",
    "       ROUND(SAFE_DIVIDE(100*miss_age, n),2)    AS pct_missing_age_band\n",
    "FROM base;"
   ]
  },
  {
   "cell_type": "code",
   "execution_count": null,
   "id": "oPVESI_5Xk-h",
   "metadata": {
    "colab": {
     "base_uri": "https://localhost:8080/",
     "height": 1000,
     "referenced_widgets": [
      "031c2579c0ac4b06b764d2b49c218a5c",
      "dff2982fea044bf5911f7369e3a8bc25",
      "68678968aefb4f46ad66b57b78a095c8",
      "9180c771b72649afab96a151f82cbb5a",
      "541d3d0adeaf4e2280da8b1313b05fed",
      "e8e008c1969249a3a0b468b2d9efb52c",
      "f6b10813eb154310ae41f00ff46dece5",
      "58e570cd314143bb8598e484c5c214df",
      "bccfb42b508e448ea68aa077357c6a60",
      "0568145d20e14928a9f9dd7ec9fe3d12",
      "0bd8a155113a46568ede38d7ff51f711",
      "419431649ab049f78c505731d2f4c471",
      "0d5c3cfa9e24486688c0d45c6a4fd13c",
      "fddf877e817b45d9b2976b78ca17aeec",
      "183c398a7c3c4feababa61f1a3f4e6c8",
      "03e7283c8a8b49babc0e9d0fcbb00255",
      "82e0b4d636284553932e5b6096ba041e",
      "79b0dc3a8303477caf02ba8ff06d3962",
      "ffcab43760194b8b9c33ec71fcdbfd3e",
      "25631ddae8674f44b44454800110e0b2",
      "f5760042a8ef4866acafa2019cd0df49",
      "ebcb9239242e4a4cb3f324e2b420a6fb"
     ]
    },
    "id": "oPVESI_5Xk-h",
    "outputId": "25e6a74b-09c1-49c8-b6be-3554467dac28"
   },
   "outputs": [],
   "source": [
    "%%bigquery\n",
    "-- Users: % plan_tier missing by region (examining MAR)\n",
    "SELECT state_province,\n",
    "       COUNT(*) AS n,\n",
    "       ROUND(SAFE_DIVIDE(100*COUNTIF(subscription_plan IS NULL), COUNT(*)),2) AS pct_missing_plan_tier\n",
    "FROM `sunlit-plasma-471119-s7.netflix.users`\n",
    "GROUP BY state_province\n",
    "ORDER BY pct_missing_plan_tier DESC;"
   ]
  },
  {
   "cell_type": "markdown",
   "id": "yUXGfCDcXk-h",
   "metadata": {
    "id": "yUXGfCDcXk-h"
   },
   "source": [
    "### Verification Prompt\n",
    "Generate a query that prints the three missingness percentages from (1), rounded to two decimals.\n"
   ]
  },
  {
   "cell_type": "code",
   "execution_count": null,
   "id": "sV6zw0Q7u9xL",
   "metadata": {
    "colab": {
     "base_uri": "https://localhost:8080/",
     "height": 145,
     "referenced_widgets": [
      "97d00762898941eb9295d6d3ae054cb1",
      "83d3fe3c1b0b4447bb9480ec0a959f69",
      "a8d5664ef80a4b7f9bf0931a1696feeb",
      "2d15a4da627440438365293d26abed7e",
      "f38856c549b045829b37d0711d51238b",
      "fb8da88df4c944d39f00d9503ee6decd",
      "7553e77bc8df42e1b8b05bb6b344cf20",
      "1e9e247c362c4cb6b38458e7ce1840a9",
      "6acd08dd370c4df89b131bbb99f5f2a7",
      "f142d99934a94732a046e241e3bda1d7",
      "c73ad46f28d74bfc9bde5b807628a21b",
      "ce63b786e898473fb80dca836d3e5a13",
      "ec78677a4e1141ecac4ec13000bd9cfa",
      "488c2239f60842cbae08fc2c3e8b1d04",
      "193250299d964bd5a291e4fe236552be",
      "f78685895a67460f909ebd4887b1fc2d",
      "ce679245dee640e0912fc28babd29d9d",
      "583809c3bfd4439a96669f7a61b9669d",
      "29dd009af97543eabb2436a84162214e",
      "d83b1bb437ff485aa2e5f02c0163c2fb",
      "9f48584c07a3431bbd9a5c35650aae8b",
      "d5109b1f655c4989a2a224881f00947f"
     ]
    },
    "id": "sV6zw0Q7u9xL",
    "outputId": "5dff3b62-84fc-41ea-8c34-5daf3b8263b2"
   },
   "outputs": [],
   "source": [
    "%%bigquery\n",
    "WITH base AS (\n",
    "  SELECT COUNT(*) n,\n",
    "         COUNTIF(state_province IS NULL) miss_region,\n",
    "         COUNTIF(subscription_plan IS NULL) miss_plan,\n",
    "         COUNTIF(age IS NULL) miss_age\n",
    "  FROM `sunlit-plasma-471119-s7.netflix.users`\n",
    ")\n",
    "SELECT n,\n",
    "       ROUND(SAFE_DIVIDE(100*miss_region, n),2) AS pct_missing_region,\n",
    "       ROUND(SAFE_DIVIDE(100*miss_plan, n),2)   AS pct_missing_plan_tier,\n",
    "       ROUND(SAFE_DIVIDE(100*miss_age, n),2)    AS pct_missing_age_band\n",
    "FROM base;"
   ]
  },
  {
   "cell_type": "markdown",
   "id": "yPXMINXAXk-h",
   "metadata": {
    "id": "yPXMINXAXk-h"
   },
   "source": [
    "**Reflection:** Which columns are most missing? Hypothesize MCAR/MAR/MNAR and why."
   ]
  },
  {
   "cell_type": "markdown",
   "id": "Mfiz5ENsvNgh",
   "metadata": {
    "id": "Mfiz5ENsvNgh"
   },
   "source": [
    "None of them having missing things."
   ]
  },
  {
   "cell_type": "markdown",
   "id": "LzHOSr-lXk-i",
   "metadata": {
    "id": "LzHOSr-lXk-i"
   },
   "source": [
    "### 5.2 Duplicates (watch_history) — What & Why\n",
    "Find exact duplicate interaction records and keep **one best** per group (deterministic policy)."
   ]
  },
  {
   "cell_type": "markdown",
   "id": "5aRw1rQZXk-i",
   "metadata": {
    "id": "5aRw1rQZXk-i"
   },
   "source": [
    "### Build Prompt\n",
    "Generate **two BigQuery SQL cells**:\n",
    "1) Report duplicate groups on `(user_id, movie_id, event_ts, device_type)` with counts (top 20).\n",
    "2) Create table `watch_history_dedup` that keeps one row per group (prefer higher `progress_ratio`, then `minutes_watched`). Add comments.\n"
   ]
  },
  {
   "cell_type": "code",
   "execution_count": null,
   "id": "iAfQ1PKjXk-i",
   "metadata": {
    "colab": {
     "base_uri": "https://localhost:8080/",
     "height": 741,
     "referenced_widgets": [
      "fc060690f05342bb8b5df67ceb6e407c",
      "0a7a958983f44f089eee2f373c4a56dd",
      "5ac57ec47c284df5858a9ac66595e583",
      "dc9568a5e6a14c81a18f68ebb5aa3073",
      "b65d0b30cba74d92ab18d8a6b963ec83",
      "da39a03684c046eab1f427fe6cdbcb98",
      "2657c16964254b69ad4506dc738b49e5",
      "d2f6427d5cb049d89ac7f9d39e58f400",
      "4048cde9feff4a6e97b7a15baaf75627",
      "372e775cd31e493da54dc2f15621bd12",
      "cdbbdc0a07a943c8ad1da745b7833d3f",
      "5a0e912072414ddf9127a3b15ce7afd8",
      "e75ba64528ac48ca8b2c6c4fdd8cfb23",
      "c7fd75ebe93043a09d6fb0b00bbbca68",
      "2782c5dd92b54ed9848137100518fc5f",
      "fff45786e54b4d2995b6532a83166b66",
      "70ce9ddc7077486282cc941b3c885057",
      "856a30d0338842fa9120dede6054d2d2",
      "c57cef4b14cc45fa81674f864bb1a652",
      "801f241d6f73404493d39d799b14b51b",
      "e27e210daa464a3da71a2cc53bc4a23a",
      "a698eb31f1074184bab4e720811813ec"
     ]
    },
    "id": "iAfQ1PKjXk-i",
    "outputId": "924bd3bf-6b11-4f6b-954b-6b700c905967"
   },
   "outputs": [],
   "source": [
    "%%bigquery\n",
    "-- Report duplicate groups on (user_id, movie_id, event_ts, device_type) with counts (top 20)\n",
    "SELECT user_id, movie_id, device_type, COUNT(*) AS dup_count\n",
    "FROM `sunlit-plasma-471119-s7.netflix.watch_history`\n",
    "GROUP BY user_id, movie_id, device_type\n",
    "HAVING dup_count > 1\n",
    "ORDER BY dup_count DESC\n",
    "LIMIT 20;"
   ]
  },
  {
   "cell_type": "code",
   "execution_count": null,
   "id": "3SP8D3MmXk--",
   "metadata": {
    "colab": {
     "base_uri": "https://localhost:8080/",
     "height": 85,
     "referenced_widgets": [
      "99af91208a6940c8aa001736e76033b3",
      "e7b2d93b32c0401fa003312766e5ed99",
      "bf0c3e7a01594b4796b5b2ac21c258b3",
      "9c41f413a4ce46729643b8899014483b",
      "a328c41786c94bdcac7796ddb3301123",
      "ce86f99d05d343c6b15bc079472028c4",
      "d2969038b3ee4bd0bad1c2623948bec2",
      "b165dac4d65c4e9a9c54c3305bc38bbf",
      "836f90adf4ae4b698b84b9eaf2202d69",
      "24e19765e9c840fba04db35029badb8c",
      "421922f8ae554a91ad711adf82cc4068"
     ]
    },
    "id": "3SP8D3MmXk--",
    "outputId": "8f38ba89-eec3-4276-a911-328021a7d31d"
   },
   "outputs": [],
   "source": [
    "%%bigquery\n",
    "CREATE OR REPLACE TABLE `sunlit-plasma-471119-s7.netflix.watch_history_dedup` AS\n",
    "SELECT * EXCEPT(rk) FROM (\n",
    "  SELECT h.*,\n",
    "         ROW_NUMBER() OVER (\n",
    "           PARTITION BY user_id, movie_id, device_type\n",
    "           ORDER BY progress_percentage DESC, watch_duration_minutes DESC\n",
    "         ) AS rk\n",
    "  FROM `sunlit-plasma-471119-s7.netflix.watch_history` h\n",
    ")\n",
    "WHERE rk = 1;"
   ]
  },
  {
   "cell_type": "markdown",
   "id": "X0RmzT5uXk-_",
   "metadata": {
    "id": "X0RmzT5uXk-_"
   },
   "source": [
    "### Verification Prompt\n",
    "Generate a before/after count query comparing raw vs `watch_history_dedup`.\n"
   ]
  },
  {
   "cell_type": "code",
   "execution_count": null,
   "id": "NZUWPAaWvuXu",
   "metadata": {
    "colab": {
     "base_uri": "https://localhost:8080/",
     "height": 176,
     "referenced_widgets": [
      "682b0c16bc5045bb8497dbb4728eaa29",
      "15c6363338d34139bf58843b43ee2644",
      "2a8b4ebc9b734224bafcf6d7306737ee",
      "2c8541636a854665bb129cfbf42cf3ab",
      "804334d5479a4811a0c6e181aac39275",
      "109fbfb3979a4ebc838d6d02668e3815",
      "844b657dad8a43a698909505cf5fb807",
      "cd33d5a944604679917d8522fe28bd6c",
      "bbbc5cbcd96849e4bf69002147228532",
      "36707890ee5b4d58bae092eaf8ff9c3d",
      "7ae9dc57d50640caa73b42b2497813a1",
      "07ae9812c9ef4a929c55708621eaa6cc",
      "fb396f5eee414138a5ee48ebb37d1a16",
      "fc13935712614be594d0543bb107e1de",
      "6d0f70131167491395c658dd1e353cd9",
      "df8a523694794a51b7d15de3fa650346",
      "eaadf7a873ca484b903437cb3ff05760",
      "8e64371360354b44a5c80bffdad87643",
      "2de0ed61233a4623b023fd34527aa68b",
      "6041df80239442459165d918536f0324",
      "f52e5d9bcbf342e8b9775e8c7520600e",
      "d879663b5ef447579f36ea430701513d"
     ]
    },
    "id": "NZUWPAaWvuXu",
    "outputId": "32a71d7a-885c-4dd4-d455-faae5a3a48bf"
   },
   "outputs": [],
   "source": [
    "%%bigquery\n",
    "-- Compare row counts before and after deduplication\n",
    "SELECT 'watch_history_raw' AS table_name, COUNT(*) AS row_count\n",
    "FROM `sunlit-plasma-471119-s7.netflix.watch_history`\n",
    "UNION ALL\n",
    "SELECT 'watch_history_dedup' AS table_name, COUNT(*) AS row_count\n",
    "FROM `sunlit-plasma-471119-s7.netflix.watch_history_dedup`;"
   ]
  },
  {
   "cell_type": "markdown",
   "id": "vwk_bvqHXk_A",
   "metadata": {
    "id": "vwk_bvqHXk_A"
   },
   "source": [
    "**Reflection:** Why do duplicates arise (natural vs system-generated)? How do they corrupt labels and KPIs?"
   ]
  },
  {
   "cell_type": "markdown",
   "id": "xzaSgcR8xsEO",
   "metadata": {
    "id": "xzaSgcR8xsEO"
   },
   "source": [
    "Duplicates can arise from both natural and system-generated causes. Natural duplicates might occur when a user legitimately performs the same action multiple times in quick succession (e.g., refreshing a page). System-generated duplicates are more common in data pipelines and can result from errors in data collection, transmission, processing, or storage (e.g., a logging system sending the same event twice, or joins in a data transformation creating unintended duplicates).\n",
    "\n",
    "Duplicates can corrupt labels and KPIs by artificially inflating counts and distorting distributions. For example:\n",
    "\n",
    "- Labels: If you're building a model to predict user engagement based on watch history, duplicate entries for the same viewing session would make it seem like a user watched a movie for a much longer time than they actually did, leading to incorrect engagement labels.\n",
    "- KPIs: Metrics like \"total minutes watched,\" \"number of unique viewers,\" or \"completion rate\" would be skewed by duplicate entries, leading to inaccurate reporting and potentially flawed business decisions."
   ]
  },
  {
   "cell_type": "markdown",
   "id": "J66h6s1IXk_A",
   "metadata": {
    "id": "J66h6s1IXk_A"
   },
   "source": [
    "### 5.3 Outliers (minutes_watched) — What & Why\n",
    "Estimate extreme values via IQR; report % outliers; **winsorize** to P01/P99 for robustness while also **flagging** extremes."
   ]
  },
  {
   "cell_type": "markdown",
   "id": "-lLfOJ8LXk_B",
   "metadata": {
    "id": "-lLfOJ8LXk_B"
   },
   "source": [
    "### Build Prompt\n",
    "Generate **two BigQuery SQL cells**:\n",
    "1) Compute IQR bounds for `minutes_watched` on `watch_history_dedup` and report % outliers.\n",
    "2) Create `watch_history_robust` with `minutes_watched_capped` capped at P01/P99; return quantile summaries before/after.\n"
   ]
  },
  {
   "cell_type": "code",
   "execution_count": null,
   "id": "HrUzdOkkXk_C",
   "metadata": {
    "colab": {
     "base_uri": "https://localhost:8080/",
     "height": 145,
     "referenced_widgets": [
      "d36326c9c85a48de84d6d6e747ea8546",
      "112f901caa3d4e758be9122d9cdb867a",
      "edd3804b28cf4be3aead382b03b5a96d",
      "f27924818fd64446b6a1d5cf2836a5e4",
      "03c34b5edfa546749948466a17a19779",
      "1bc93db787524bba8d5323c4ae49302b",
      "8902755e1f784bc0a1f956c2948bdee6",
      "96a442fd4aab4563bc36104c122c234b",
      "5206871f50ba4a909dc618e4ddc2eee7",
      "1b82c4ec2f524065bdbfd0b4a1cccdb9",
      "1574ca2f27e1497b82591ed04f54de9d",
      "1920e26531234fa6a8d9984e2cbf2194",
      "1810b6b40b6a4793bfdf4c135b7ed3b2",
      "095b80c574d74c8c970ab3bc64b8b35f",
      "4350325920d1468b84b426c678b3513f",
      "416c65a375304118b299cf98a8781caa",
      "1a73edd009634193b24aa39a9d675161",
      "fdff50907f4b4831b209bef64bc2dfcd",
      "c9be1d5854a74b619a408def91f7b893",
      "10aace8b44234f91acd38969382a6c08",
      "7d308fde21454e989f8c74107a9b2492",
      "5ff9b48b4bd24f93a9042d69f1c8e307"
     ]
    },
    "id": "HrUzdOkkXk_C",
    "outputId": "3b43d971-f8b5-47ef-dd7b-681de93f5053"
   },
   "outputs": [],
   "source": [
    "%%bigquery\n",
    "WITH dist AS (\n",
    "  SELECT\n",
    "    APPROX_QUANTILES(watch_duration_minutes, 4)[OFFSET(1)] AS q1,\n",
    "    APPROX_QUANTILES(watch_duration_minutes, 4)[OFFSET(3)] AS q3\n",
    "  FROM `sunlit-plasma-471119-s7.netflix.watch_history_dedup`\n",
    "),\n",
    "bounds AS (\n",
    "  SELECT q1, q3, (q3-q1) AS iqr,\n",
    "         q1 - 1.5*(q3-q1) AS lo,\n",
    "         q3 + 1.5*(q3-q1) AS hi\n",
    "  FROM dist\n",
    ")\n",
    "SELECT\n",
    "  COUNTIF(h.watch_duration_minutes < b.lo OR h.watch_duration_minutes > b.hi) AS outliers,\n",
    "  COUNT(*) AS total,\n",
    "  ROUND(100*COUNTIF(h.watch_duration_minutes < b.lo OR h.watch_duration_minutes > b.hi)/COUNT(*),2) AS pct_outliers\n",
    "FROM `sunlit-plasma-471119-s7.netflix.watch_history_dedup` h\n",
    "CROSS JOIN bounds b;"
   ]
  },
  {
   "cell_type": "code",
   "execution_count": null,
   "id": "716aE1q-Xk_D",
   "metadata": {
    "colab": {
     "base_uri": "https://localhost:8080/",
     "height": 176,
     "referenced_widgets": [
      "9292b4dea0b0422aa41b69c21bbd60e2",
      "8f2bea13c39849a0b2d1de554259a2d5",
      "1dbc50c546cb4a2ca98c72dcaa27363a",
      "a4ab4a69816d432881ef413293abd51f",
      "5fd38e67bc394e0fa251a82d101b43f4",
      "4015fb033de942d2a88872933ba78ee9",
      "08e1faac86464001b3e1f34af8e1f5d2",
      "47b410f304604e6ca7ba64d213a49cd3",
      "d287b2a2c65c4045bb3317ae359eb868",
      "ea2cd1e83a4a4dfb81ba4980bb64c109",
      "89b88fe919794ad8a4f75d68345377eb",
      "b5034c280c644af88088b7e15896021e",
      "432861106262474eb4dbccc77042f455",
      "d8fa89afa92e46b5814309feacd17fab",
      "c34c39e8dfe94d04ba5bb55f250b38fa",
      "c56a9a16b58b4c40a467bafbe2ac3a45",
      "29fae7d4a2eb442b8067cb7bf135b7fc",
      "81c8e4fc58d3491799fb9b2fb0732dab",
      "43178b39f2f34903a9613c44d7075947",
      "685a6f3df15b415d9a0dda79a6db1337",
      "6cea8377dcec4f64a421deef2bed7985",
      "f0d8e1918e2342ab9d9bf46d5f5d9e9a"
     ]
    },
    "id": "716aE1q-Xk_D",
    "outputId": "33a36a50-fa40-4667-fb5c-641f76aae674"
   },
   "outputs": [],
   "source": [
    "%%bigquery\n",
    "CREATE OR REPLACE TABLE `sunlit-plasma-471119-s7.netflix.watch_history_robust` AS\n",
    "WITH q AS (\n",
    "  SELECT\n",
    "    APPROX_QUANTILES(watch_duration_minutes, 100)[OFFSET(1)]  AS p01,\n",
    "    APPROX_QUANTILES(watch_duration_minutes, 100)[OFFSET(98)] AS p99\n",
    "  FROM `sunlit-plasma-471119-s7.netflix.watch_history_dedup`\n",
    ")\n",
    "SELECT\n",
    "  h.*,\n",
    "  GREATEST(q.p01, LEAST(q.p99, h.watch_duration_minutes)) AS minutes_watched_capped\n",
    "FROM `sunlit-plasma-471119-s7.netflix.watch_history_dedup` h, q;\n",
    "\n",
    "-- Quantiles before vs after\n",
    "WITH before AS (\n",
    "  SELECT 'before' AS which, APPROX_QUANTILES(watch_duration_minutes, 5) AS q\n",
    "  FROM `sunlit-plasma-471119-s7.netflix.watch_history_dedup`\n",
    "),\n",
    "after AS (\n",
    "  SELECT 'after' AS which, APPROX_QUANTILES(minutes_watched_capped, 5) AS q\n",
    "  FROM `sunlit-plasma-471119-s7.netflix.watch_history_robust`\n",
    ")\n",
    "SELECT * FROM before UNION ALL SELECT * FROM after;"
   ]
  },
  {
   "cell_type": "markdown",
   "id": "b8wJWOPCXk_E",
   "metadata": {
    "id": "b8wJWOPCXk_E"
   },
   "source": [
    "### Verification Prompt\n",
    "Generate a query that shows min/median/max before vs after capping.\n"
   ]
  },
  {
   "cell_type": "code",
   "execution_count": null,
   "id": "GKsT2URlw4m1",
   "metadata": {
    "colab": {
     "base_uri": "https://localhost:8080/",
     "height": 176,
     "referenced_widgets": [
      "7c563489c68440339011af4af7e154f7",
      "898e2bab59ce4ab288157f41b25fe859",
      "2460cc1d182d41c7ade9680bf836145c",
      "c1c4125de9ad4ab4b5dbc5ca73dffbad",
      "b3ed6f35b4de412187567a864e9c4087",
      "f742280f1a314339a6404d4f38004118",
      "0aebe057bdf240459f0cec16d73b516f",
      "c6f19a6f465b473dbc8c03677ceff930",
      "71d931e010e6402caee189b6abe7bd9c",
      "bf16230cb25140c4bca7ea0a746bf1cc",
      "1023b351e3404d10a2df67d8a190b314",
      "6202fe8079524b80bc92061251fc053c",
      "69375357aa1c47f3aa865e6f3d256446",
      "3cdb8442b8904b3b9016853a441a0979",
      "e1df14a6d737418c9f18f2da3a7c57ad",
      "d553be67ddb74c98a609362313c638d4",
      "5236afa122074c2eb1d019aaaecc834d",
      "d26e7367a69a4eea8cbfb7a860a7700f",
      "86442c7971cb4e1c918d5bd7272edf90",
      "025983c88ed74a8a9764120e703a48fb",
      "5cb054ecdcc04c71b8fd946d3e953c1d",
      "1323fc82487948d4ad7823b8c0f05dda"
     ]
    },
    "id": "GKsT2URlw4m1",
    "outputId": "dcc88a73-c860-46e3-c56b-f9a5dd80549c"
   },
   "outputs": [],
   "source": [
    "%%bigquery\n",
    "WITH before AS (\n",
    "  SELECT\n",
    "    'before' AS which,\n",
    "    MIN(watch_duration_minutes) AS min_watched,\n",
    "    APPROX_QUANTILES(watch_duration_minutes, 2)[OFFSET(1)] AS median_watched,\n",
    "    MAX(watch_duration_minutes) AS max_watched\n",
    "  FROM `sunlit-plasma-471119-s7.netflix.watch_history_dedup`\n",
    "),\n",
    "after AS (\n",
    "  SELECT\n",
    "    'after' AS which,\n",
    "    MIN(minutes_watched_capped) AS min_watched,\n",
    "    APPROX_QUANTILES(minutes_watched_capped, 2)[OFFSET(1)] AS median_watched,\n",
    "    MAX(minutes_watched_capped) AS max_watched\n",
    "  FROM `sunlit-plasma-471119-s7.netflix.watch_history_robust`\n",
    ")\n",
    "SELECT * FROM before\n",
    "UNION ALL\n",
    "SELECT * FROM after;"
   ]
  },
  {
   "cell_type": "markdown",
   "id": "5FRvsacJXk_F",
   "metadata": {
    "id": "5FRvsacJXk_F"
   },
   "source": [
    "**Reflection:** When might capping be harmful? Name a model type less sensitive to outliers and why."
   ]
  },
  {
   "cell_type": "markdown",
   "id": "1fzzAv4bxlzl",
   "metadata": {
    "id": "1fzzAv4bxlzl"
   },
   "source": [
    "Capping might be harmful when outliers represent genuine, important data points that could significantly influence the outcome you are trying to model. For example, in fraud detection, extreme values could be indicators of fraudulent activity, and capping them would obscure these signals.\n",
    "\n",
    "Tree-based models like Decision Trees, Random Forests, and Gradient Boosting Machines (e.g., XGBoost, LightGBM) are generally less sensitive to outliers compared to linear models (like Linear Regression or Logistic Regression) or distance-based models (like K-Nearest Neighbors or K-Means). This is because tree-based models make decisions based on splitting data at certain thresholds rather than relying on distances or the overall distribution of the data, which can be heavily skewed by outliers."
   ]
  },
  {
   "cell_type": "markdown",
   "id": "b5qgpnFlXk_F",
   "metadata": {
    "id": "b5qgpnFlXk_F"
   },
   "source": [
    "### 5.4 Business anomaly flags — What & Why\n",
    "Human-readable flags help both product decisioning and ML features (e.g., binge behavior)."
   ]
  },
  {
   "cell_type": "markdown",
   "id": "0-heupIvXk_F",
   "metadata": {
    "id": "0-heupIvXk_F"
   },
   "source": [
    "### Build Prompt\n",
    "Generate **three BigQuery SQL cells** (adjust if columns differ):\n",
    "1) In `watch_history_robust`, compute and summarize `flag_binge` for sessions > 8 hours.\n",
    "2) In `users`, compute and summarize `flag_age_extreme` if age can be parsed from `age_band` (<10 or >100).\n",
    "3) In `movies`, compute and summarize `flag_duration_anomaly` where `duration_min` < 15 or > 480 (if exists).\n",
    "Each cell should output count and percentage and include 1–2 comments.\n"
   ]
  },
  {
   "cell_type": "code",
   "execution_count": null,
   "id": "Bj2wCLw6Xk_G",
   "metadata": {
    "colab": {
     "base_uri": "https://localhost:8080/",
     "height": 145,
     "referenced_widgets": [
      "5e2884c2778f4349ac59c67004792d76",
      "ad6a00ce899f46ddbef9c1e122137ebf",
      "e3c07095d09848c894fa4a0c32d68936",
      "b7d683ced2e8482880c77e0c9a3e0f33",
      "a3516e95c42341dbbc6c3747fcfcd03e",
      "5fbf260bf0c7455eab4975410a091a2a",
      "2a822cfda4f241e59a770957a52f7d44",
      "4d9aa1c58767423f8578358a211bd2e2",
      "827bb055e2d240debb92aae41cde2cfb",
      "4bfce7dbc3b448b88f54f07ef11fc829",
      "762a092a59cd4c1d9ec0d29ab69c8710",
      "13242dce4c394ab8bfefd4867c3b166f",
      "0eebed09d33446a0aa4662c5c1ec6f23",
      "aad8605e9b9746e399bb012831ae83b6",
      "7782eae83ef041e487cec5de18122be4",
      "7128d36d2beb4d0da7499ccaa06eae07",
      "02b88022e44d4ddd9a8d7ed8641ee06a",
      "73a8744d47d94791941513da5bd3ae34",
      "8713c81c61084c67b24ec3589310d73f",
      "825e33cb280d4a8ea17b45f766d6274e",
      "536754848c194d6dab7a6a0df6988fa0",
      "3eb7cb1b509746458b67dd85648fee10"
     ]
    },
    "id": "Bj2wCLw6Xk_G",
    "outputId": "9e8aa245-bad6-40ac-99c7-88e257f28dee"
   },
   "outputs": [],
   "source": [
    "%%bigquery\n",
    "-- Summarize flag_binge for sessions > 8 hours in watch_history_robust\n",
    "SELECT\n",
    "  COUNTIF(watch_duration_minutes > 8*60) AS sessions_over_8h,\n",
    "  COUNT(*) AS total,\n",
    "  ROUND(SAFE_DIVIDE(100*COUNTIF(watch_duration_minutes > 8*60), COUNT(*)),2) AS pct_flag_binge\n",
    "FROM `sunlit-plasma-471119-s7.netflix.watch_history_robust`;"
   ]
  },
  {
   "cell_type": "code",
   "execution_count": null,
   "id": "jLMwYA8XXk_G",
   "metadata": {
    "colab": {
     "base_uri": "https://localhost:8080/",
     "height": 145,
     "referenced_widgets": [
      "9214329e884f45e0932a092f05d0444c",
      "263cb233cbfe417c93c198e502534c0e",
      "540c3ba91d6d4313b98ce01b47a0b16f",
      "ce62c67618fe4484b77cb86460208be3",
      "525925c86e9c41759e122d237479d565",
      "a8eb2e58b2b4421dbfae3dbd3e90c835",
      "71549390cce24db2adf293c5ddb4ff87",
      "e6e99ed89059406ba2632af5e447be7c",
      "dc565ec356bf41689e55dcedfc3f7c3f",
      "c077c9cef9a74510977624cf15831d93",
      "a63658abdfd54b66ab3eace4c2523d08",
      "69b97b838ea3482285d2a14340d8fe96",
      "761d80cf75654dceb74150e1f27b382e",
      "918521cad1ef4de1b9022efd3155471f",
      "146693b2396241099233e50d747de977",
      "44de04e6bdea4066905788cc4bb668c9",
      "69867f092d9543d1b8ee2f418ea44a87",
      "acc78f769daf4d9d997c67f5ccb8bec0",
      "56bb0ed9a0644cfe83a9f56fff3aa779",
      "7e50436e0bef45c2b2269c72f81b4ff4",
      "f961a434196e43d79cc0952f32bfa9a7",
      "c5ad2c02d1c843ebbcd47e02f6980003"
     ]
    },
    "id": "jLMwYA8XXk_G",
    "outputId": "18546ab4-84d1-43c1-d05b-478fcf47989e"
   },
   "outputs": [],
   "source": [
    "%%bigquery\n",
    "-- Summarize flag_age_extreme in users\n",
    "-- Flag users with extreme ages (below 10 or above 100) based on parsing age_band.\n",
    "SELECT\n",
    "  COUNTIF(SAFE_CAST(REGEXP_EXTRACT(CAST(age AS STRING), r'\\d+') AS INT64) < 10 OR\n",
    "          SAFE_CAST(REGEXP_EXTRACT(CAST(age AS STRING), r'\\d+') AS INT64) > 100) AS extreme_age_rows,\n",
    "  COUNT(*) AS total,\n",
    "  ROUND(SAFE_DIVIDE(100*COUNTIF(SAFE_CAST(REGEXP_EXTRACT(CAST(age AS STRING), r'\\d+') AS INT64) < 10 OR\n",
    "                                SAFE_CAST(REGEXP_EXTRACT(CAST(age AS STRING), r'\\d+') AS INT64) > 100), COUNT(*)),2) AS pct_flag_age_extreme\n",
    "FROM `sunlit-plasma-471119-s7.netflix.users`;"
   ]
  },
  {
   "cell_type": "code",
   "execution_count": null,
   "id": "qm1IbqG_Xk_H",
   "metadata": {
    "colab": {
     "base_uri": "https://localhost:8080/",
     "height": 145,
     "referenced_widgets": [
      "e8c952ad1fbb4a5784ddbf9e03b88e4c",
      "e0d72658f71b4bbc980077e99568cbb4",
      "ec198d3febeb4451a8c38ae1ebb09175",
      "152304f4bc094420a0680a49a1212607",
      "62579272b609458695f71447b8833405",
      "6c30efea364b4b3ab548e6c7ec18e960",
      "388faeebf1bb4245814853775ab9600f",
      "0af3e711a4ed40d1b8d37637f12a30b1",
      "e276394bc80846749ebe60fad51aa88f",
      "ede4eee1af194d059bf0fc3d3cbddbe6",
      "e039af652e4e4c338f5992aa42257c63",
      "e76ba68bc5864d1292fd6029485a5563",
      "16231b2f5a074034b4553cc8ae86cfca",
      "d3f713001aa4440aa7f359a48d3e6a7c",
      "1ee5c76d55d1473f8569923f5636809d",
      "3a04848bf925485983b840ee1dcb9946",
      "ac021f9b51524569b08337f9bd3ed38d",
      "dac6cfaee31c4b62a70f1068b7a602b5",
      "af570fc182664fb4a3ac23a00c768afc",
      "69d01c0b10a548228725ceaaa855d32e",
      "e8cad8fbed6e4ed4a91d9efd52c31ce3",
      "616376b8f3694582b7898e95cfad281d"
     ]
    },
    "id": "qm1IbqG_Xk_H",
    "outputId": "225187dc-e1cc-405e-dfb3-0c9ca896ff67"
   },
   "outputs": [],
   "source": [
    "%%bigquery\n",
    "-- Summarize flag_duration_anomaly in movies\n",
    "SELECT\n",
    "  COUNTIF(duration_minutes < 15 OR duration_minutes > 8*60) AS duration_anomaly_titles,\n",
    "  COUNT(*) AS total,\n",
    "  ROUND(SAFE_DIVIDE(100*COUNTIF(duration_minutes < 15 OR duration_minutes > 8*60), COUNT(*)),2) AS pct_flag_duration_anomaly\n",
    "FROM `sunlit-plasma-471119-s7.netflix.movies`;"
   ]
  },
  {
   "cell_type": "markdown",
   "id": "p5N-_xUrXk_H",
   "metadata": {
    "id": "p5N-_xUrXk_H"
   },
   "source": [
    "### Verification Prompt\n",
    "Generate a single compact summary query that returns two columns per flag: `flag_name, pct_of_rows`.\n"
   ]
  },
  {
   "cell_type": "code",
   "execution_count": null,
   "id": "1dVvHuSjxT4l",
   "metadata": {
    "colab": {
     "base_uri": "https://localhost:8080/",
     "height": 207,
     "referenced_widgets": [
      "2730b22ab897483dbf1b34bd7484ef51",
      "1471cca5476f48ccb7f46341b4a3711e",
      "98dada2f685740d9baf6781cc574c102",
      "de83cbc933e14b36badd8aff133d7be5",
      "1c8559503c134f0985dfba3f2d5f1b5b",
      "4337833c28d948f6b1936765de7dd693",
      "1b6dd508b8d6436f9f74bef3215d086c",
      "52265b4136f047caa0ca2a2e04a0cd9d",
      "6e46f6ba376e4d7fb6087f968d318b43",
      "769cbfeea815441bba7f9f0e7e358324",
      "e0bc487d5f4e4ed8912a58942dee6b2a",
      "33954bf50e704c30ba965999a22242b3",
      "01654c6e298e46ccbb80c051e1803d4e",
      "a8d8a3f23cbb4c3dab7e2afdfc7fcde0",
      "a33ffb2217d24aa689920af9049c9b23",
      "daf44a89c01146a08bcbbd482aa6471e",
      "1e3daf2ffae54c32add2e954dd891216",
      "4aa562ac31684735884735412c1764ec",
      "52b066c1bea1419baec8800469bdc49e",
      "ef7d0c28ee6e4d65b14fbdb5824297a3",
      "0c839132a2f34012a5e275e0b05c20f1",
      "0e8eb63c7c154b85b1efe5558082c20f"
     ]
    },
    "id": "1dVvHuSjxT4l",
    "outputId": "17df2913-b03c-4539-8ac9-bb1de567dbdf"
   },
   "outputs": [],
   "source": [
    "%%bigquery\n",
    "-- Single compact summary query for anomaly flags\n",
    "SELECT\n",
    "  'flag_binge' AS flag_name,\n",
    "  ROUND(SAFE_DIVIDE(100*COUNTIF(watch_duration_minutes > 8*60), COUNT(*)),2) AS pct_of_rows\n",
    "FROM `sunlit-plasma-471119-s7.netflix.watch_history_robust`\n",
    "UNION ALL\n",
    "SELECT\n",
    "  'flag_age_extreme' AS flag_name,\n",
    "  ROUND(SAFE_DIVIDE(100*COUNTIF(SAFE_CAST(REGEXP_EXTRACT(CAST(age AS STRING), r'\\d+') AS INT64) < 10 OR\n",
    "                                SAFE_CAST(REGEXP_EXTRACT(CAST(age AS STRING), r'\\d+') AS INT64) > 100), COUNT(*)),2) AS pct_of_rows\n",
    "FROM `sunlit-plasma-471119-s7.netflix.users`\n",
    "UNION ALL\n",
    "SELECT\n",
    "  'flag_duration_anomaly' AS flag_name,\n",
    "  ROUND(SAFE_DIVIDE(100*COUNTIF(duration_minutes < 15 OR duration_minutes > 8*60), COUNT(*)),2) AS pct_of_rows\n",
    "FROM `sunlit-plasma-471119-s7.netflix.movies`;\n"
   ]
  },
  {
   "cell_type": "markdown",
   "id": "8IJjZMeDXk_I",
   "metadata": {
    "id": "8IJjZMeDXk_I"
   },
   "source": [
    "**Reflection:** Which anomaly flag is most common? Which would you keep as a feature and why?"
   ]
  },
  {
   "cell_type": "markdown",
   "id": "MKCjr5Aoxfk8",
   "metadata": {
    "id": "MKCjr5Aoxfk8"
   },
   "source": [
    "Based on the output of the last query, the flag_duration_anomaly is the most common with 2.21% of the rows flagged, followed by flag_age_extreme at 1.74%, and then flag_binge at 0.64%.\n",
    "\n",
    "Regarding which to keep as a feature, it depends on the specific machine learning task. However, flag_age_extreme could be a useful feature for models predicting user behavior or content preferences, as very young or very old users might have different viewing habits than the general population. flag_binge could also be a strong indicator for engagement or churn prediction. flag_duration_anomaly might be less directly useful as a feature itself, but identifying these anomalies could be important for data cleaning or further investigation."
   ]
  },
  {
   "cell_type": "markdown",
   "id": "PGzdIIGQXk_I",
   "metadata": {
    "id": "PGzdIIGQXk_I"
   },
   "source": [
    "## 6) Save & submit — What & Why\n",
    "Reproducibility: save artifacts and document decisions so others can rerun and audit."
   ]
  },
  {
   "cell_type": "markdown",
   "id": "2xbYfgnLXk_I",
   "metadata": {
    "id": "2xbYfgnLXk_I"
   },
   "source": [
    "### Build Prompt\n",
    "Generate a checklist (Markdown) students can paste at the end:\n",
    "- Save this notebook to the team Drive.\n",
    "- Export a `.sql` file with your DQ queries and save to repo.\n",
    "- Push notebook + SQL to the **team GitHub** with a descriptive commit.\n",
    "- Add a README with your `PROJECT_ID`, `REGION`, bucket, dataset, and today’s row counts.\n"
   ]
  },
  {
   "cell_type": "markdown",
   "id": "-fPQRsuLXk_J",
   "metadata": {
    "id": "-fPQRsuLXk_J"
   },
   "source": [
    "## Grading rubric (quick)\n",
    "- Profiling completeness (30)  \n",
    "- Cleaning policy correctness & reproducibility (40)  \n",
    "- Reflection/insight (20)  \n",
    "- Hygiene (naming, verification, idempotence) (10)\n"
   ]
  }
 ],
 "metadata": {
  "kernelspec": {
   "display_name": "Python 3",
   "name": "python3"
  }
 },
 "nbformat": 4,
 "nbformat_minor": 5
}
