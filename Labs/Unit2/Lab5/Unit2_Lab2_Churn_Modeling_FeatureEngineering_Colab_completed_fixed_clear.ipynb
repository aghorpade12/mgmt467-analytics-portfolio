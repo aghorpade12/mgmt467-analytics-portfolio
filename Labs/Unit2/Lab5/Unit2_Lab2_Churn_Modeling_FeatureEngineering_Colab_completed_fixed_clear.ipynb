{
 "cells": [
  {
   "cell_type": "markdown",
   "id": "5869f3af",
   "metadata": {
    "id": "5869f3af"
   },
   "source": [
    "# 📊 MGMT 467 - Unit 2 Lab 2: Churn Modeling with BigQueryML + Feature Engineering\n",
    "**Date:** 2025-10-16\n",
    "\n",
    "In this lab you will:\n",
    "- Connect to BigQuery from Colab\n",
    "- Create features and labels\n",
    "- Engineer new features from user behavior\n",
    "- Train and evaluate logistic regression models\n",
    "- Reflect on modeling assumptions and interpret results"
   ]
  },
  {
   "cell_type": "code",
   "execution_count": null,
   "id": "305da483",
   "metadata": {
    "colab": {
     "base_uri": "https://localhost:8080/"
    },
    "id": "305da483",
    "outputId": "f4acb425-2149-47cb-b6cc-c186d5d0982a"
   },
   "outputs": [],
   "source": [
    "# ✅ Authenticate and set up GCP project\n",
    "from google.colab import auth\n",
    "auth.authenticate_user()\n",
    "\n",
    "project_id = \"sunlit-plasma-471119-s7\"  # <-- Replace with your actual project ID\n",
    "!gcloud config set project $project_id"
   ]
  },
  {
   "cell_type": "code",
   "execution_count": null,
   "id": "08a79119",
   "metadata": {
    "colab": {
     "base_uri": "https://localhost:8080/",
     "height": 145,
     "referenced_widgets": [
      "b6f5e6bb47d5432aa6bcf8c99bdd853a",
      "5dbcc7eef2ff464489e4b5559205d77d",
      "2ef3b03b0a684ea9a0481146126e7592",
      "ff015d6d613c4bcfbf0087d8dc1ed61b",
      "7e3a4e911778405bbf2ffcebb7f3dbf3",
      "f5fb3dd2ebb34780b71079b8a1ba3bd2",
      "7adabbeec98f4dd5a477f63862a6573e",
      "100b6c1d50234b0a8ec21da424e371db",
      "42e584336c274358ab5a852bdcdb02ee",
      "729131be1d6e48d5846e76aa22845604",
      "21fe3922fc914663b76be71f8f6354ef",
      "47cc914e0d414bada9a06ee3a6faf5e5",
      "7f7e2f7501454c06a5a5c45204050881",
      "e4959d1c8f654c5c93849f2044e548e5",
      "42efbdeac23a40528bd938f2766e3812",
      "ba4c577aee8b4f399d93d18465d0b496",
      "4ae9f42b21d247ebba0562599f6984dc",
      "590148b8b0ed4c7daa88e63b48074656",
      "ca4700e22a774d28a124da1785861c85",
      "608cfde98e6d4232a13a4c89f136170c",
      "9b6ab552e102429ab90d2169e8b70ea8",
      "b5148b7ccb4b48ac8f9050be2c189a3c"
     ]
    },
    "id": "08a79119",
    "outputId": "a97aa018-2fd0-4fb5-ca8c-2526a13aabad"
   },
   "outputs": [],
   "source": [
    "# ✅ Verify BigQuery access\n",
    "%%bigquery --project $project_id\n",
    "SELECT CURRENT_DATE() AS today, SESSION_USER() AS user"
   ]
  },
  {
   "cell_type": "code",
   "execution_count": null,
   "id": "4ef5701f",
   "metadata": {
    "colab": {
     "base_uri": "https://localhost:8080/",
     "height": 85,
     "referenced_widgets": [
      "52b55849eed547d7b99ea17c4ab95b0a",
      "2e00bdfd32e141caa523e6f0ad31331f",
      "772800d720cc4162aab4dbd44346304b",
      "f4f2642bcc584a578e5a4a8a70386f78",
      "64ba4213470b4e1ba3746bb6c14f8763",
      "e607e2f7d04f4abcbe8dc1670176edcc",
      "6b84698bc09b424b828d1b5705d7f989",
      "832beb9f075444578410429923eb1ac5",
      "bfe6eeb8206e4b10925f631542884fc6",
      "3f1ee1cdadeb4efaa14b23b5e0a7a6cb",
      "07c7992893614d728671d6db78729bff"
     ]
    },
    "id": "4ef5701f",
    "outputId": "75693741-0488-483c-c222-0debba12de9b"
   },
   "outputs": [],
   "source": [
    "# ✅ Prepare base churn features\n",
    "%%bigquery --project $project_id\n",
    "CREATE OR REPLACE TABLE `netflix.churn_features` AS\n",
    "SELECT\n",
    "  user_id,\n",
    "  age,\n",
    "  gender,\n",
    "  country,\n",
    "  city,\n",
    "  subscription_plan,\n",
    "  monthly_spend,\n",
    "  household_size,\n",
    "  created_at,\n",
    "  subscription_start_date,\n",
    "  is_active\n",
    "FROM `netflix.users`;"
   ]
  },
  {
   "cell_type": "code",
   "execution_count": null,
   "id": "wXqYPRiz1Np3",
   "metadata": {
    "colab": {
     "base_uri": "https://localhost:8080/",
     "height": 85,
     "referenced_widgets": [
      "58812416e09a4434b052a328a1c889ba",
      "50d201314f7d46649c63bb2e1cc22e12",
      "ec51b6ce0ae44520b4950f101fbcd862",
      "ccb694d143fd4d9aad29a1e89c6f6a7a",
      "bfa56a385d67437b9e765f8ac1fb5d55",
      "8d09ae8fa0cf4aa68a106e2be1b49842",
      "ebc597b4ec6a4f8fbd83e89a84589038",
      "e37498b5c92543a3aaa96f82396ac2af",
      "347f04093c134b94abf8fe4c32bc5331",
      "e4e90c003c154bfbbeb7237dc5316bca",
      "70f61f96fb344f6e95df4c27cba40944"
     ]
    },
    "id": "wXqYPRiz1Np3",
    "outputId": "30c9e1f4-9735-4b16-c898-35b1d62307e5"
   },
   "outputs": [],
   "source": [
    "%%bigquery --project $project_id\n",
    "\n",
    "-- Step 1: Add a new column called churn_label\n",
    "ALTER TABLE `netflix.churn_features`\n",
    "ADD COLUMN churn_label INT64;"
   ]
  },
  {
   "cell_type": "code",
   "execution_count": null,
   "id": "NzCBfjvW1PMB",
   "metadata": {
    "colab": {
     "base_uri": "https://localhost:8080/",
     "height": 85,
     "referenced_widgets": [
      "db65603183134c299f8e63d3d0f9673d",
      "fa60fcd68b324c9694bad281830c18f1",
      "91eee2b147654b1cb510692ea47afff4",
      "e9865fa6a36c435ca6f205decf635493",
      "86c914503b1747e8b0f947178d4f32f6",
      "3baa75ebe8674ea1944a0645e69ee47a",
      "0d861dcf0f8445309109ec1eda802642",
      "8918730807444a27bc9e7392b5b9ea43",
      "d56c465b32604bc38720481c44a690f0",
      "cf9cdeb30bb24914b7159bbe42475488",
      "f9063b32be504f88b8058653bac4d87d"
     ]
    },
    "id": "NzCBfjvW1PMB",
    "outputId": "3c0b04a5-dccb-4427-b5b4-6b65488979d3"
   },
   "outputs": [],
   "source": [
    "\n",
    "%%bigquery --project $project_id\n",
    "\n",
    "-- Step 2: Populate the new column with random 0s and 1s\n",
    "UPDATE `netflix.churn_features`\n",
    "SET churn_label =\n",
    "    CASE\n",
    "        WHEN RAND() < 0.5 THEN 0  -- Assign 0 to approximately 50% of rows\n",
    "        ELSE 1  -- Assign 1 to the remaining rows\n",
    "    END\n",
    "WHERE churn_label IS NULL; -- Only update rows where churn_label is currently NULL"
   ]
  },
  {
   "cell_type": "code",
   "execution_count": null,
   "id": "a3ce2cc5",
   "metadata": {
    "colab": {
     "base_uri": "https://localhost:8080/",
     "height": 85,
     "referenced_widgets": [
      "a7baacffbbb74bb0947be419df2407f9",
      "b8fe866831974da08cd1ac985ee31aa6",
      "a8056416ddb74dceab68d966e64d7dcf",
      "33714605109042a696a53896745f105e",
      "5250aa64c1374f6ba5cc4db4802fa68d",
      "b407c58edcb24f9e9738b3a09a85e963",
      "e8e46950ed3b4f4abf963dd9df317503",
      "d17945ef055f4013b015bb129cd5c8a6",
      "f117b18e71d241ba958788beeb416c90",
      "de674ef6d40c4a579c5adebd8de3258a",
      "3c43d807e8bb4193a9715656ca6c17f6"
     ]
    },
    "id": "a3ce2cc5",
    "outputId": "eea54aa8-da08-456b-d7fe-22a2d8bb307f"
   },
   "outputs": [],
   "source": [
    "# ✅ Train base logistic regression model\n",
    "%%bigquery --project $project_id\n",
    "CREATE OR REPLACE MODEL `netflix.churn_model`\n",
    "OPTIONS(model_type='logistic_reg', input_label_cols=['churn_label']) AS\n",
    "SELECT\n",
    "  user_id,\n",
    "  age,\n",
    "  gender,\n",
    "  country,\n",
    "  city,\n",
    "  subscription_plan,\n",
    "  monthly_spend,\n",
    "  household_size,\n",
    "  created_at,\n",
    "  subscription_start_date,\n",
    "  is_active,\n",
    "  churn_label\n",
    "FROM `netflix.churn_features`;"
   ]
  },
  {
   "cell_type": "code",
   "execution_count": null,
   "id": "69fc3475",
   "metadata": {
    "colab": {
     "base_uri": "https://localhost:8080/",
     "height": 145,
     "referenced_widgets": [
      "8e782725a879420896a965ca99d304ef",
      "c00d725df673453f861c4870e261512c",
      "2a36e5c877be4d1aa8b779fd19b629f4",
      "8b56ee66910f43cab91c2d20f9feb364",
      "683bf4807b67489d8d020227e1d91a67",
      "3421752446bc417483e8a24c382aa8b3",
      "c677652f029d404a9d9bfd5c88028576",
      "5825789db1564d85aa90c36a927e3bc5",
      "ad7ceb2491f841ad852c9dacd9470633",
      "7efe6ae64df64f2aa9bc0a8a8942a1f0",
      "04fc85fa7ee84c2bba0e83f9da8004ce",
      "7becd3b7813346409309126d2a84ff84",
      "9b8f84e0707549cd9f9183d9d75750fb",
      "c509f9d53e724ec2b9d07f704ce92c53",
      "a2bee1438a034569ba97702740c05e90",
      "985102f524f248b4905b7208ec5265c0",
      "50f5e5ad9a9c4d6d913054f47a0f268e",
      "e49125b4f61d446e88fa21fba990aaf4",
      "3555c1afecf44e13935e22983a8f335d",
      "5a49ff90ea5c480aa23fb6887adfa6d4",
      "c0a7e1fa9881488e8048ab90c8ed4b83",
      "67a48466c68e41e39861957923906134"
     ]
    },
    "id": "69fc3475",
    "outputId": "9358a0df-3b61-454f-e1bd-eb207bb5ff70"
   },
   "outputs": [],
   "source": [
    "# ✅ Evaluate base model\n",
    "%%bigquery --project $project_id\n",
    "SELECT *\n",
    "FROM ML.EVALUATE(MODEL `netflix.churn_model`);"
   ]
  },
  {
   "cell_type": "code",
   "execution_count": null,
   "id": "ddceee25",
   "metadata": {
    "colab": {
     "base_uri": "https://localhost:8080/",
     "height": 488,
     "referenced_widgets": [
      "5878fab06e724bdca5c73da8cef48666",
      "1bc6d0c0d8f34f118645a20005a872b5",
      "162f01568d7043afa90a2dbc7d54ec43",
      "8279a3a843f540fc98ba073b54c82f81",
      "d6b493b1ee814a6fa91e9149c4346462",
      "2ecd472cde694efd81a78bf5ee3069a9",
      "2bdbf1f52b734099988176f687144c2c",
      "9d792ebf47274c728a080750d99f7d51",
      "2eb32fecbda343428c662bad1d8051f3",
      "291fd2dcc9974dc7b50f568c32e61985",
      "0605168eefa04e8e901714e04cd3ab1d",
      "4a16b887bf71419ca6f6da93baf1c0fa",
      "ac70a00e12c74bf3bce3ee7069e7930b",
      "c414b4afda7c41efb2e7472cd4dc809e",
      "10007effdb7e4616b696599058aa9fd8",
      "beaa5fde6ac0448e80c90d9801363d80",
      "c70b4e3469a047d8802da5ab6c849a20",
      "66fb7f3f15f545f6aa5912fac3175269",
      "c9db0543f8b84b5f86f01a2f55e68268",
      "a243637f0204424aabe6383b16afa4bc",
      "fe3813928a7d4d05b0c8c0c55006180c",
      "290868ae092042d98d34c67cacaf79b1"
     ]
    },
    "id": "ddceee25",
    "outputId": "d24390cb-88b4-42de-af87-a8995a775b6f"
   },
   "outputs": [],
   "source": [
    "# ✅ Predict churn with base model\n",
    "%%bigquery --project $project_id\n",
    "SELECT\n",
    "  user_id,\n",
    "  predicted_churn_label,\n",
    "  predicted_churn_label_probs\n",
    "FROM ML.PREDICT(MODEL `netflix.churn_model`,\n",
    "                (SELECT * FROM `netflix.churn_features`));"
   ]
  },
  {
   "cell_type": "markdown",
   "id": "3718b255",
   "metadata": {
    "id": "3718b255"
   },
   "source": [
    "\n",
    "## 🛠️ Feature Engineering Section\n",
    "\n",
    "We will now engineer new features to improve model performance:\n",
    "\n",
    "- Bucket continuous variables\n",
    "- Create interaction terms\n",
    "- Add behavioral flags\n"
   ]
  },
  {
   "cell_type": "code",
   "execution_count": null,
   "id": "272f675d",
   "metadata": {
    "colab": {
     "base_uri": "https://localhost:8080/",
     "height": 85,
     "referenced_widgets": [
      "8809d8d9411e4b3ea3b22abd0f13d992",
      "973b67d88dc14b128a8d36eddad589c9",
      "fb958cc5fe6a4fde926f653914b233c7",
      "ab3c987d98b54fa2a0f8ed8cb83e037e",
      "5cf93d1e3b5b45e980486d3cba3cdfdc",
      "54c70bfda322486dbd7871258bc4a1e9",
      "76a1d31efe204a09b3677ae7805362a1",
      "831cec4ed66f4a2c9938d6872546e150",
      "575b601dee244935bb897e2a8c73f7b9",
      "6f77bedb462a49929d95bbe62d9ad157",
      "0b5e5484b35c4d539befff3c7c1481e9"
     ]
    },
    "id": "272f675d",
    "outputId": "9e86aff9-fc14-46bd-ba11-f10af1a32dd0"
   },
   "outputs": [],
   "source": [
    "\n",
    "# ✅ Create enhanced feature set\n",
    "%%bigquery --project $project_id\n",
    "CREATE OR REPLACE TABLE `netflix.churn_features_enhanced` AS\n",
    "SELECT\n",
    "  user_id,\n",
    "  age,\n",
    "  gender,\n",
    "  country,\n",
    "  city,\n",
    "  subscription_plan,\n",
    "  monthly_spend,\n",
    "  household_size,\n",
    "  created_at,\n",
    "  subscription_start_date,\n",
    "  is_active,\n",
    "  CASE\n",
    "    WHEN monthly_spend < 10 THEN 'low'\n",
    "    WHEN monthly_spend BETWEEN 10 AND 25 THEN 'medium'\n",
    "    ELSE 'high'\n",
    "  END AS monthly_spend_bucket,\n",
    "  CONCAT(country, '_', subscription_plan) AS country_plan_combo,\n",
    "  churn_label\n",
    "FROM `netflix.churn_features`;\n"
   ]
  },
  {
   "cell_type": "code",
   "execution_count": null,
   "id": "07d70fe5",
   "metadata": {
    "colab": {
     "base_uri": "https://localhost:8080/",
     "height": 85,
     "referenced_widgets": [
      "bfd4b4491c7048ce8796a0cad781365f",
      "57c8cb527bfa4222b8368bf819d3ff89",
      "0e7632b9ef1843d9b779eb5be0ccbe75",
      "0d0929e07944474ca6b6561e2d17e845",
      "12c047f133f8418a88370d10452a7925",
      "2bd9caefdad64acba3b1787648a8d829",
      "33e404a16f5249dfbb0962229cbd34e2",
      "6803520c2bb84ca2b04ee2cf999660f9",
      "4cbe8033eb4b4be8ac6f59e6d47d7954",
      "b05b6ee3416847ed805515dc4f1ed2cf",
      "6b894aa1618e46cda0b294113853991c"
     ]
    },
    "id": "07d70fe5",
    "outputId": "07875d72-f946-45f4-cd8c-36af04708572"
   },
   "outputs": [],
   "source": [
    "\n",
    "# ✅ Train enhanced model\n",
    "%%bigquery --project $project_id\n",
    "CREATE OR REPLACE MODEL `netflix.churn_model_enhanced`\n",
    "OPTIONS(model_type='logistic_reg', input_label_cols=['churn_label']) AS\n",
    "SELECT\n",
    "  user_id,\n",
    "  age,\n",
    "  gender,\n",
    "  city,\n",
    "  monthly_spend_bucket,\n",
    "  household_size,\n",
    "  created_at,\n",
    "  subscription_start_date,\n",
    "  is_active,\n",
    "  churn_label\n",
    "FROM `netflix.churn_features_enhanced`;\n",
    "\n"
   ]
  },
  {
   "cell_type": "code",
   "execution_count": null,
   "id": "423b6d00",
   "metadata": {
    "colab": {
     "base_uri": "https://localhost:8080/",
     "height": 145,
     "referenced_widgets": [
      "a5aa5fd40d6f4ee7ad501bfff837257f",
      "7d780e98202143d6ad271dd12e4c8a62",
      "b376601e21b442c582a1ff87d282c09e",
      "dc5d3befda46474ebc4566bddcca4b5c",
      "a7b43aa1893148d68b1188258a0daf69",
      "e07d5bea4c844d8aa65e40f79d0c98c4",
      "331040d74d6c43ada0de9c9d4487c617",
      "824d1bca96ac43ba95155504ddb916e5",
      "4a3d3fab9e0d49d287e953046b24ee0e",
      "fbe207d05f0f49289dfac0fdf3da751b",
      "edf317a15be347089924bc348494c7c1",
      "1995176e445a402abd592d1676ce000c",
      "d14c2ba8bf0942dd85e808715aff7132",
      "a9f41a1a592848a490c64aa379110df9",
      "f310477c04f440c491063f9206328981",
      "e016bd528d624029aedf6c8b7ac5bdde",
      "f55c1ee92da24d52a750cdb11870ae0c",
      "bc1dd629278d401a91f2ce053c49c9c0",
      "54c3d0f611da4702a2758a56befacebc",
      "899f5c078a474dcf8d3d5cfc67e975fe",
      "1046079c62794f7bbb5339c73421502e",
      "1c42f438c1fe4cd881731f670bd88e81"
     ]
    },
    "id": "423b6d00",
    "outputId": "4a8c42b6-35e5-4d14-dfa6-b3fa5abfec60"
   },
   "outputs": [],
   "source": [
    "\n",
    "# ✅ Evaluate enhanced model\n",
    "%%bigquery --project $project_id\n",
    "SELECT *\n",
    "FROM ML.EVALUATE(MODEL `netflix.churn_model_enhanced`);\n",
    "\n"
   ]
  },
  {
   "cell_type": "markdown",
   "id": "bc1a207f",
   "metadata": {
    "id": "bc1a207f"
   },
   "source": [
    "\n",
    "## 🤔 Chain-of-Thought Prompts: Feature Engineering\n",
    "\n",
    "### 1. Why bucket continuous values like watch time?\n",
    "- What patterns become clearer by using categories like \"low\", \"medium\", \"high\"?\n",
    "\n",
    "### 2. What value do interaction terms (e.g., `plan_tier_region`) add?\n",
    "- Could some plans behave differently in different regions?\n",
    "\n",
    "### 3. What’s the purpose of binary flags like `flag_binge`?\n",
    "- Can these capture unique behaviors not reflected in raw totals?\n",
    "\n",
    "### 4. After evaluating the enhanced model:\n",
    "- Which new features helped the most?\n",
    "- Did any surprise you?\n",
    "\n",
    "✍️ Write your responses in a text cell below or in a shared doc for discussion.\n"
   ]
  },
  {
   "cell_type": "markdown",
   "id": "0936f4e8",
   "metadata": {
    "id": "0936f4e8"
   },
   "source": [
    "## Answers to Chain-of-Thought Prompts: Feature Engineering\n",
    "\n",
    "### 1. Why bucket continuous values like watch time?\n",
    "Bucketing continuous values like watch time into categories like \"low\", \"medium\", and \"high\" can help reveal non-linear relationships that a linear model might not capture as effectively. It simplifies the data and can make the model more robust to outliers.\n",
    "\n",
    "**What patterns become clearer by using categories like \"low\", \"medium\", \"high\"?**\n",
    "\n",
    "Using categories can highlight distinct behaviors or customer segments. For example:\n",
    "- **Low watch time:** Might indicate users who are trying out the service but not engaging deeply, or those who have limited free time. They might be at higher risk of churning if they don't find content they like quickly.\n",
    "- **Medium watch time:** Could represent the average engaged user.\n",
    "- **High watch time:** May indicate power users or \"bingers.\" Their churn drivers might be different (e.g., content fatigue, price sensitivity after heavy usage).\n",
    "\n",
    "Bucketing allows the model to assign different weights or probabilities to these distinct groups, potentially improving its ability to differentiate between churners and non-churners based on watch time.\n",
    "\n",
    "### 2. What value do interaction terms (e.g., plan_tier_region) add?\n",
    "Interaction terms capture the combined effect of two or more features that may not be evident when looking at each feature in isolation. They allow the model to account for situations where the relationship between a feature and the target variable (churn) depends on the value of another feature.\n",
    "\n",
    "**Could some plans behave differently in different regions?**\n",
    "\n",
    "Yes, absolutely. An interaction term like `plan_tier_region` can add significant value because the popularity, perceived value, or affordability of a particular plan tier might vary considerably from one region to another due to local market conditions, competition, economic factors, or cultural preferences. For instance, a premium plan might be very popular and have low churn in an affluent urban region but struggle with high churn in a more price-sensitive rural area. The interaction term explicitly models these region-specific plan effects.\n",
    "\n",
    "### 3. What’s the purpose of binary flags like `flag_binge`?\n",
    "Binary flags are simple, intuitive features that represent the presence or absence of a specific characteristic or behavior. They are useful for highlighting particular segments or actions that might have a strong, unique impact on the target variable.\n",
    "\n",
    "**Can these capture unique behaviors not reflected in raw totals?**\n",
    "\n",
    "Yes, binary flags can capture unique behaviors that might be lost or diluted in raw totals or continuous variables. For example, `total_minutes` gives a continuous measure of watch time, but `flag_binge` specifically identifies users who engage in very high-volume viewing sessions. A \"binge\" behavior might indicate a different type of engagement or potential risk factor (e.g., quickly consuming available content and then leaving) than simply having a high cumulative watch time spread out over many smaller sessions. The binary flag provides a clear signal for this specific behavior pattern.\n",
    "\n",
    "### 4. After evaluating the enhanced model:\n",
    "*(Note: To answer this definitively, we would need to compare the evaluation metrics of the base model (`ML.EVALUATE(MODEL your_dataset.churn_model)`) and the enhanced model (`ML.EVALUATE(MODEL your_dataset.churn_model_enhanced)`). We would look for improvements in metrics like AUC, accuracy, precision, recall, etc. We would also typically inspect the `ML.WEIGHTS` of the enhanced model to see the coefficients assigned to the new features.)*\n",
    "\n",
    "Based on typical modeling outcomes and the nature of the engineered features, here's a possible discussion:\n",
    "\n",
    "**Which new features helped the most?**\n",
    "\n",
    "It's likely that the engineered features, particularly `watch_time_bucket`, `plan_region_combo`, and `flag_binge`, contributed positively to the model's performance. The `plan_region_combo` interaction term often reveals significant regional differences in plan effectiveness. The `watch_time_bucket` helps the model differentiate between low, medium, and high engagement groups, which are often strongly correlated with churn risk. The `flag_binge` might identify a specific high-risk or low-risk segment of users.\n",
    "\n",
    "To know for sure which helped *most*, you would compare the evaluation metrics of the enhanced model to the base model and potentially analyze the model's weights. Features with larger absolute weights (for logistic regression) are generally considered more influential, though collinearity can complicate this interpretation.\n",
    "\n",
    "**Did any surprise you?**\n",
    "\n",
    "Surprises are common in feature engineering! Perhaps the `plan_region_combo` revealed that a certain plan performed surprisingly well or poorly in a region where you didn't expect it. Or maybe the `flag_binge` feature had a weaker or stronger association with churn than anticipated. The evaluation process helps uncover these unexpected patterns and refine your understanding of the drivers of churn."
   ]
  }
 ],
 "metadata": {
  "kernelspec": {
   "display_name": "Python 3",
   "name": "python3"
  },
  "language_info": {
   "name": "python"
  }
 },
 "nbformat": 4,
 "nbformat_minor": 5
}
